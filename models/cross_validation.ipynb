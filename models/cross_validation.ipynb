{
 "cells": [
  {
   "cell_type": "code",
   "execution_count": 9,
   "metadata": {},
   "outputs": [],
   "source": [
    "import numpy as np \n",
    "import pandas as pd \n",
    "import matplotlib.pyplot as plt \n",
    "\n",
    "\n",
    "from sklearn.model_selection import train_test_split, cross_val_score\n",
    "from sklearn.linear_model import LinearRegression\n",
    "from sklearn.compose import ColumnTransformer\n",
    "from sklearn.pipeline import Pipeline\n",
    "from sklearn.metrics import mean_squared_error, r2_score\n",
    "from sklearn.ensemble import RandomForestRegressor\n",
    "from datetime import datetime\n",
    "from pathlib import Path\n"
   ]
  },
  {
   "cell_type": "code",
   "execution_count": 4,
   "metadata": {},
   "outputs": [],
   "source": [
    "current_datetime =  datetime.now()\n",
    "current_date_str = str(current_datetime.date()).replace('-','_')\n",
    "output_directory = '../data/processed/player_data/'\n",
    "output_filename = current_date_str + '_clean_player_data.csv'\n",
    "file_path = output_directory + output_filename\n",
    "\n",
    "\n",
    "df = pd.read_csv(file_path)\n",
    "\n",
    "duplicate_players = df[df.duplicated(subset=['Player'], keep=False)]\n",
    "\n",
    "duplicate_players_same_team = duplicate_players[duplicate_players.duplicated(subset=['Player', 'Team'], keep=False)]\n",
    "\n",
    "df = df.drop_duplicates(subset=['Player', 'Team'], keep='first')\n",
    "\n",
    "\n",
    "\n",
    "defense_df = df[df['Pos'] == 'D']"
   ]
  },
  {
   "cell_type": "code",
   "execution_count": 5,
   "metadata": {},
   "outputs": [],
   "source": [
    "def prep_atoi(atoi_string):\n",
    "    list = atoi_string.split(':')\n",
    "    minutes = int(list[0])\n",
    "    seconds = int(list[1])\n",
    "\n",
    "    return minutes + (seconds/60)"
   ]
  },
  {
   "cell_type": "code",
   "execution_count": 6,
   "metadata": {},
   "outputs": [
    {
     "name": "stderr",
     "output_type": "stream",
     "text": [
      "/tmp/ipykernel_105995/2150517146.py:3: SettingWithCopyWarning: \n",
      "A value is trying to be set on a copy of a slice from a DataFrame.\n",
      "Try using .loc[row_indexer,col_indexer] = value instead\n",
      "\n",
      "See the caveats in the documentation: https://pandas.pydata.org/pandas-docs/stable/user_guide/indexing.html#returning-a-view-versus-a-copy\n",
      "  defense_df['icetime_per_game'] = defense_df['ATOI'].apply(prep_atoi)\n"
     ]
    }
   ],
   "source": [
    "columns_to_drop = ['Unnamed: 0', 'Pos', 'EV.1', 'PP.1', 'SH.1', 'TOI','FOW', 'FOL', 'FO%',  'S/C','Team', 'specific_pos', 'Cap%', 'ATOI', 'Ht', 'Wt' ]\n",
    "\n",
    "defense_df['icetime_per_game'] = defense_df['ATOI'].apply(prep_atoi)\n",
    "\n",
    "df = defense_df.drop(columns=columns_to_drop)\n",
    "df = df.dropna()"
   ]
  },
  {
   "cell_type": "code",
   "execution_count": 7,
   "metadata": {},
   "outputs": [],
   "source": [
    "df['points_per_game'] = (df['G'] + df['A']) / df['GP']\n",
    "df['penalty_mins_per_game'] = df['PIM'] / df['GP']\n",
    "df['shots_per_game'] = df['S'] / df['GP']\n",
    "df['shot%_per_game'] = df['S%'] / df['GP']\n",
    "df['hits_per_game'] = df['HIT'] / df['GP']\n",
    "df['blocks_per_game'] = df['BLK'] / df['GP']\n",
    "df['years_of_experience'] = df['Exp']\n",
    "\n",
    " \n",
    "df = df.drop(columns=['G', 'A', 'PIM', 'S', 'S%', 'HIT', 'BLK', 'GP', 'PTS', 'Exp'])"
   ]
  },
  {
   "cell_type": "code",
   "execution_count": 8,
   "metadata": {},
   "outputs": [],
   "source": [
    "player_names = df['Player']\n",
    "\n",
    "\n",
    "# Features (X) - Exclude the target column\n",
    "X = df.drop(['Salary', 'Player'], axis=1)\n",
    "\n",
    "# Target (y) - The column you want to predict\n",
    "y = df['Salary']\n",
    "\n",
    "\n",
    "X_encoded = pd.get_dummies(X)\n",
    "\n",
    "\n",
    "# Split the data into training and testing sets\n",
    "# Adjust the test_size parameter as needed\n",
    "X_train, X_test, y_train, y_test, player_names_train, player_names_test = train_test_split(\n",
    "    X_encoded, y, player_names, test_size=0.2, random_state=42\n",
    ")\n"
   ]
  },
  {
   "cell_type": "code",
   "execution_count": 13,
   "metadata": {},
   "outputs": [
    {
     "name": "stdout",
     "output_type": "stream",
     "text": [
      "Cross-Validation Mean Squared Error: 2763235356139.483\n",
      "Mean Squared Error on Full Dataset: 368889689093.96967\n"
     ]
    }
   ],
   "source": [
    "\n",
    "# Initialize the Random Forest Regressor\n",
    "rf_model = RandomForestRegressor()\n",
    "\n",
    "scores = cross_val_score(rf_model, X_train, y_train, cv=6, scoring='neg_mean_squared_error')\n",
    "cv_mse = -scores.mean()  # Calculate mean squared error\n",
    "\n",
    "# 5. Evaluate model performance during cross-validation\n",
    "print(\"Cross-Validation Mean Squared Error:\", cv_mse)\n",
    "\n",
    "\n",
    "\n",
    "\n",
    "# 6. Train model on full data\n",
    "rf_model.fit(X_encoded, y)\n",
    "\n",
    "# 7. Make predictions\n",
    "all_predictions = rf_model.predict(X)\n",
    "\n",
    "# 8. Evaluate predictions (optional)\n",
    "mse = mean_squared_error(y, all_predictions)\n",
    "print(\"Mean Squared Error on Full Dataset:\", mse)"
   ]
  },
  {
   "cell_type": "code",
   "execution_count": 19,
   "metadata": {},
   "outputs": [
    {
     "name": "stdout",
     "output_type": "stream",
     "text": [
      "3.688897e+11\n",
      "2.763235e+12\n"
     ]
    }
   ],
   "source": [
    "print(f'{368889689093.96967:e}')\n",
    "print(f'{2763235356139.483:e}')"
   ]
  },
  {
   "cell_type": "code",
   "execution_count": null,
   "metadata": {},
   "outputs": [],
   "source": []
  }
 ],
 "metadata": {
  "kernelspec": {
   "display_name": "nhl_11_env",
   "language": "python",
   "name": "python3"
  },
  "language_info": {
   "codemirror_mode": {
    "name": "ipython",
    "version": 3
   },
   "file_extension": ".py",
   "mimetype": "text/x-python",
   "name": "python",
   "nbconvert_exporter": "python",
   "pygments_lexer": "ipython3",
   "version": "3.11.7"
  }
 },
 "nbformat": 4,
 "nbformat_minor": 2
}
