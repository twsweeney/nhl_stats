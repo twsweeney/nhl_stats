{
 "cells": [
  {
   "cell_type": "code",
   "execution_count": 35,
   "metadata": {},
   "outputs": [],
   "source": [
    "import pandas as pd "
   ]
  },
  {
   "cell_type": "code",
   "execution_count": 36,
   "metadata": {},
   "outputs": [],
   "source": [
    "url = 'https://www.capfriendly.com/teams/bruins'\n",
    "\n",
    "\n",
    "patterns_to_match = ['Forwards', 'Defense', 'Goalies']\n",
    "combined_pattern = \"|\".join(patterns_to_match)\n",
    "\n",
    "tables = pd.read_html(url, match=combined_pattern)\n",
    "\n",
    "\n",
    "\n"
   ]
  },
  {
   "cell_type": "code",
   "execution_count": 37,
   "metadata": {},
   "outputs": [
    {
     "name": "stdout",
     "output_type": "stream",
     "text": [
      "There are 6 tables\n"
     ]
    }
   ],
   "source": [
    "print(f'There are {len(tables)} tables')"
   ]
  },
  {
   "cell_type": "code",
   "execution_count": 38,
   "metadata": {},
   "outputs": [],
   "source": [
    "valid_tables = tables[:-3]\n",
    "\n",
    "\n"
   ]
  },
  {
   "cell_type": "code",
   "execution_count": 39,
   "metadata": {},
   "outputs": [],
   "source": [
    "def rename_players_column(df):\n",
    "    df['Player'] =  df[df.columns[0]]\n",
    "    df = df.drop(columns=df.columns[0], inplace=True)\n"
   ]
  },
  {
   "cell_type": "code",
   "execution_count": 40,
   "metadata": {},
   "outputs": [],
   "source": [
    "def drop_total_row(df):\n",
    "    index = df.shape[0] - 1 \n",
    "    df = df.drop(index, inplace=True)\n"
   ]
  },
  {
   "cell_type": "code",
   "execution_count": 41,
   "metadata": {},
   "outputs": [
    {
     "name": "stdout",
     "output_type": "stream",
     "text": [
      "Index(['Years Remaining', 'Terms', 'POS', 'Status', 'Acquired', 'Age', 'Cap%',\n",
      "       '2023-24', '2024-25', '2025-26', '2026-27', '2027-28', '2028-29',\n",
      "       'Player'],\n",
      "      dtype='object')\n",
      "Index(['Years Remaining', 'Terms', 'POS', 'Status', 'Acquired', 'Age', 'Cap%',\n",
      "       '2023-24', '2024-25', '2025-26', '2026-27', '2027-28', '2028-29',\n",
      "       'Player'],\n",
      "      dtype='object')\n",
      "Index(['Years Remaining', 'Terms', 'POS', 'Status', 'Acquired', 'Age', 'Cap%',\n",
      "       '2023-24', '2024-25', '2025-26', '2026-27', '2027-28', '2028-29',\n",
      "       'Player'],\n",
      "      dtype='object')\n"
     ]
    }
   ],
   "source": [
    "for table in valid_tables:\n",
    "    rename_players_column(table)\n",
    "    drop_total_row(table)\n",
    "    print(table.columns)\n",
    "    \n",
    "\n",
    "players_df = pd.concat(valid_tables).reset_index(drop=True)"
   ]
  },
  {
   "cell_type": "code",
   "execution_count": 42,
   "metadata": {},
   "outputs": [
    {
     "name": "stdout",
     "output_type": "stream",
     "text": [
      "Index(['Years Remaining', 'Terms', 'POS', 'Status', 'Acquired', 'Age', 'Cap%',\n",
      "       '2023-24', '2024-25', '2025-26', '2026-27', '2027-28', '2028-29',\n",
      "       'Player'],\n",
      "      dtype='object')\n"
     ]
    }
   ],
   "source": [
    "print(players_df.columns)"
   ]
  },
  {
   "cell_type": "code",
   "execution_count": 43,
   "metadata": {},
   "outputs": [],
   "source": [
    "\n",
    "drop_columns = ['Years Remaining', 'Terms',\n",
    "       'Status', 'Acquired', 'Age', '2024-25', '2025-26',\n",
    "       '2026-27', '2027-28', '2028-29']\n",
    "\n",
    "players_df = players_df.drop(columns=drop_columns)"
   ]
  },
  {
   "cell_type": "code",
   "execution_count": 44,
   "metadata": {},
   "outputs": [],
   "source": [
    "def parse_salaries(df):\n",
    "    df['Salary'] = df['2023-24'].str.split('$').str.get(1)\n",
    " \n",
    "    df = df.drop(columns=['2023-24'])\n",
    "    return df "
   ]
  },
  {
   "cell_type": "code",
   "execution_count": 45,
   "metadata": {},
   "outputs": [
    {
     "data": {
      "text/plain": [
       "Index(['POS', 'Cap%', '2023-24', 'Player'], dtype='object')"
      ]
     },
     "execution_count": 45,
     "metadata": {},
     "output_type": "execute_result"
    }
   ],
   "source": [
    "players_df.columns"
   ]
  },
  {
   "cell_type": "code",
   "execution_count": 46,
   "metadata": {},
   "outputs": [],
   "source": [
    "players_df = parse_salaries(players_df)"
   ]
  },
  {
   "cell_type": "code",
   "execution_count": 47,
   "metadata": {},
   "outputs": [],
   "source": [
    "def process_name(input_str):\n",
    "    clean_str = input_str.replace('\"A\"', '').replace('\"C\"', '')\n",
    "    parts = clean_str.split(',')\n",
    "    if len(parts) == 2:\n",
    "        last, first = parts\n",
    "        flipped = f'{first} {last}'\n",
    "        return flipped\n",
    "    else:\n",
    "        print(f'Invalid input string: {input_str}')"
   ]
  },
  {
   "cell_type": "code",
   "execution_count": 48,
   "metadata": {},
   "outputs": [],
   "source": [
    "players_df['Player'] = players_df['Player'].apply(process_name)\n"
   ]
  },
  {
   "cell_type": "code",
   "execution_count": 49,
   "metadata": {},
   "outputs": [
    {
     "data": {
      "text/html": [
       "<div>\n",
       "<style scoped>\n",
       "    .dataframe tbody tr th:only-of-type {\n",
       "        vertical-align: middle;\n",
       "    }\n",
       "\n",
       "    .dataframe tbody tr th {\n",
       "        vertical-align: top;\n",
       "    }\n",
       "\n",
       "    .dataframe thead th {\n",
       "        text-align: right;\n",
       "    }\n",
       "</style>\n",
       "<table border=\"1\" class=\"dataframe\">\n",
       "  <thead>\n",
       "    <tr style=\"text-align: right;\">\n",
       "      <th></th>\n",
       "      <th>POS</th>\n",
       "      <th>Cap%</th>\n",
       "      <th>Player</th>\n",
       "      <th>Salary</th>\n",
       "    </tr>\n",
       "  </thead>\n",
       "  <tbody>\n",
       "    <tr>\n",
       "      <th>0</th>\n",
       "      <td>RW</td>\n",
       "      <td>13.5</td>\n",
       "      <td>David  Pastrnak</td>\n",
       "      <td>11,250,000</td>\n",
       "    </tr>\n",
       "    <tr>\n",
       "      <th>1</th>\n",
       "      <td>LW</td>\n",
       "      <td>7.3</td>\n",
       "      <td>Brad  Marchand</td>\n",
       "      <td>6,125,000</td>\n",
       "    </tr>\n",
       "    <tr>\n",
       "      <th>2</th>\n",
       "      <td>C, RW</td>\n",
       "      <td>6.3</td>\n",
       "      <td>Charlie Coyle</td>\n",
       "      <td>5,250,000</td>\n",
       "    </tr>\n",
       "    <tr>\n",
       "      <th>3</th>\n",
       "      <td>LW, C</td>\n",
       "      <td>5.7</td>\n",
       "      <td>Pavel Zacha</td>\n",
       "      <td>4,750,000</td>\n",
       "    </tr>\n",
       "    <tr>\n",
       "      <th>4</th>\n",
       "      <td>RW, LW</td>\n",
       "      <td>4.8</td>\n",
       "      <td>Jake DeBrusk</td>\n",
       "      <td>4,000,000</td>\n",
       "    </tr>\n",
       "    <tr>\n",
       "      <th>5</th>\n",
       "      <td>LW, RW</td>\n",
       "      <td>2.8</td>\n",
       "      <td>Trent Frederic</td>\n",
       "      <td>2,300,000</td>\n",
       "    </tr>\n",
       "    <tr>\n",
       "      <th>6</th>\n",
       "      <td>C, RW</td>\n",
       "      <td>2.4</td>\n",
       "      <td>Morgan Geekie</td>\n",
       "      <td>2,000,000</td>\n",
       "    </tr>\n",
       "    <tr>\n",
       "      <th>7</th>\n",
       "      <td>LW, RW</td>\n",
       "      <td>1.2</td>\n",
       "      <td>James van Riemsdyk</td>\n",
       "      <td>1,000,000</td>\n",
       "    </tr>\n",
       "    <tr>\n",
       "      <th>8</th>\n",
       "      <td>C</td>\n",
       "      <td>1.1</td>\n",
       "      <td>John Beecher</td>\n",
       "      <td>925,000</td>\n",
       "    </tr>\n",
       "    <tr>\n",
       "      <th>9</th>\n",
       "      <td>C</td>\n",
       "      <td>1.0</td>\n",
       "      <td>Matthew Poitras</td>\n",
       "      <td>870,000</td>\n",
       "    </tr>\n",
       "    <tr>\n",
       "      <th>10</th>\n",
       "      <td>C, RW</td>\n",
       "      <td>1.0</td>\n",
       "      <td>Oskar Steen</td>\n",
       "      <td>800,000</td>\n",
       "    </tr>\n",
       "    <tr>\n",
       "      <th>11</th>\n",
       "      <td>LW, RW</td>\n",
       "      <td>0.9</td>\n",
       "      <td>Jakub Lauko</td>\n",
       "      <td>787,500</td>\n",
       "    </tr>\n",
       "    <tr>\n",
       "      <th>12</th>\n",
       "      <td>C, LW</td>\n",
       "      <td>0.9</td>\n",
       "      <td>Jesper Boqvist</td>\n",
       "      <td>775,000</td>\n",
       "    </tr>\n",
       "    <tr>\n",
       "      <th>13</th>\n",
       "      <td>LW, RW</td>\n",
       "      <td>0.9</td>\n",
       "      <td>Danton Heinen</td>\n",
       "      <td>775,000</td>\n",
       "    </tr>\n",
       "    <tr>\n",
       "      <th>14</th>\n",
       "      <td>RD</td>\n",
       "      <td>11.4</td>\n",
       "      <td>Charlie  McAvoy</td>\n",
       "      <td>9,500,000</td>\n",
       "    </tr>\n",
       "    <tr>\n",
       "      <th>15</th>\n",
       "      <td>LD</td>\n",
       "      <td>7.8</td>\n",
       "      <td>Hampus Lindholm</td>\n",
       "      <td>6,500,000</td>\n",
       "    </tr>\n",
       "    <tr>\n",
       "      <th>16</th>\n",
       "      <td>LD</td>\n",
       "      <td>4.4</td>\n",
       "      <td>Matt Grzelcyk</td>\n",
       "      <td>3,687,500</td>\n",
       "    </tr>\n",
       "    <tr>\n",
       "      <th>17</th>\n",
       "      <td>RD</td>\n",
       "      <td>1.3</td>\n",
       "      <td>Kevin Shattenkirk</td>\n",
       "      <td>1,050,000</td>\n",
       "    </tr>\n",
       "    <tr>\n",
       "      <th>18</th>\n",
       "      <td>LD</td>\n",
       "      <td>1.1</td>\n",
       "      <td>Mason Lohrei</td>\n",
       "      <td>925,000</td>\n",
       "    </tr>\n",
       "    <tr>\n",
       "      <th>19</th>\n",
       "      <td>LD</td>\n",
       "      <td>0.9</td>\n",
       "      <td>Parker Wotherspoon</td>\n",
       "      <td>775,000</td>\n",
       "    </tr>\n",
       "    <tr>\n",
       "      <th>20</th>\n",
       "      <td>G</td>\n",
       "      <td>6.0</td>\n",
       "      <td>Linus Ullmark</td>\n",
       "      <td>5,000,000</td>\n",
       "    </tr>\n",
       "    <tr>\n",
       "      <th>21</th>\n",
       "      <td>G</td>\n",
       "      <td>4.2</td>\n",
       "      <td>Jeremy Swayman</td>\n",
       "      <td>3,475,000</td>\n",
       "    </tr>\n",
       "  </tbody>\n",
       "</table>\n",
       "</div>"
      ],
      "text/plain": [
       "       POS  Cap%               Player      Salary\n",
       "0       RW  13.5      David  Pastrnak  11,250,000\n",
       "1       LW   7.3       Brad  Marchand   6,125,000\n",
       "2    C, RW   6.3        Charlie Coyle   5,250,000\n",
       "3    LW, C   5.7          Pavel Zacha   4,750,000\n",
       "4   RW, LW   4.8         Jake DeBrusk   4,000,000\n",
       "5   LW, RW   2.8       Trent Frederic   2,300,000\n",
       "6    C, RW   2.4        Morgan Geekie   2,000,000\n",
       "7   LW, RW   1.2   James van Riemsdyk   1,000,000\n",
       "8        C   1.1         John Beecher     925,000\n",
       "9        C   1.0      Matthew Poitras     870,000\n",
       "10   C, RW   1.0          Oskar Steen     800,000\n",
       "11  LW, RW   0.9          Jakub Lauko     787,500\n",
       "12   C, LW   0.9       Jesper Boqvist     775,000\n",
       "13  LW, RW   0.9        Danton Heinen     775,000\n",
       "14      RD  11.4      Charlie  McAvoy   9,500,000\n",
       "15      LD   7.8      Hampus Lindholm   6,500,000\n",
       "16      LD   4.4        Matt Grzelcyk   3,687,500\n",
       "17      RD   1.3    Kevin Shattenkirk   1,050,000\n",
       "18      LD   1.1         Mason Lohrei     925,000\n",
       "19      LD   0.9   Parker Wotherspoon     775,000\n",
       "20       G   6.0        Linus Ullmark   5,000,000\n",
       "21       G   4.2       Jeremy Swayman   3,475,000"
      ]
     },
     "execution_count": 49,
     "metadata": {},
     "output_type": "execute_result"
    }
   ],
   "source": [
    "players_df"
   ]
  },
  {
   "cell_type": "code",
   "execution_count": null,
   "metadata": {},
   "outputs": [],
   "source": []
  }
 ],
 "metadata": {
  "kernelspec": {
   "display_name": "nhl_env",
   "language": "python",
   "name": "python3"
  },
  "language_info": {
   "codemirror_mode": {
    "name": "ipython",
    "version": 3
   },
   "file_extension": ".py",
   "mimetype": "text/x-python",
   "name": "python",
   "nbconvert_exporter": "python",
   "pygments_lexer": "ipython3",
   "version": "3.12.0"
  }
 },
 "nbformat": 4,
 "nbformat_minor": 2
}
