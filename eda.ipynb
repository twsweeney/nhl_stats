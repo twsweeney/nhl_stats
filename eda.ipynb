{
 "cells": [
  {
   "cell_type": "code",
   "execution_count": 58,
   "metadata": {},
   "outputs": [],
   "source": [
    "import pandas as pd \n",
    "import numpy as np \n",
    "import matplotlib.pyplot as plt \n",
    "import seaborn as sns\n",
    "import glob\n",
    "from unidecode import unidecode\n"
   ]
  },
  {
   "cell_type": "code",
   "execution_count": 59,
   "metadata": {},
   "outputs": [],
   "source": [
    "data_path = './data/processed/2024_01_19_clean_player_data.csv'\n",
    "df = pd.read_csv(data_path)\n",
    "\n",
    "df =df.drop(columns=['Unnamed: 0'])\n"
   ]
  },
  {
   "cell_type": "code",
   "execution_count": 60,
   "metadata": {},
   "outputs": [],
   "source": [
    "# hr_df = pd.DataFrame()\n",
    "\n",
    "# file_pattern = './data/hr_*.csv'\n",
    "# file_paths = glob.glob(file_pattern)\n",
    "\n",
    "# for file_path in file_paths:\n",
    "#     df = pd.read_csv(file_path)\n",
    "#     hr_df = pd.concat([hr_df, df], ignore_index=True)\n",
    "\n",
    "\n",
    "# capfriendly_path = './data/capfriendly.csv'\n",
    "\n",
    "# cap_df = pd.read_csv(capfriendly_path)"
   ]
  },
  {
   "cell_type": "code",
   "execution_count": 61,
   "metadata": {},
   "outputs": [],
   "source": [
    "wing_df = df[(df['Pos'] == 'LW') | (df['Pos'] == 'RW')]\n",
    "center_df = df[df['Pos'] == 'C']\n",
    "forward_df = pd.concat([wing_df, center_df])\n",
    "\n",
    "defense_df = df[df['Pos'] == 'D']\n",
    "goalie_df = df[df['Pos'] == 'G']"
   ]
  },
  {
   "cell_type": "code",
   "execution_count": 63,
   "metadata": {},
   "outputs": [
    {
     "data": {
      "text/plain": [
       "Index(['Player', 'Age', 'Pos', 'GP', 'G', 'A', 'PTS', '+/-', 'PIM', 'EV', 'PP',\n",
       "       'SH', 'GW', 'EV.1', 'PP.1', 'SH.1', 'S', 'S%', 'TOI', 'ATOI', 'OPS',\n",
       "       'DPS', 'PS', 'BLK', 'HIT', 'FOW', 'FOL', 'FO%', 'Ht', 'Wt', 'S/C',\n",
       "       'Exp', 'Team', 'specific_pos', 'Cap%', 'Salary'],\n",
       "      dtype='object')"
      ]
     },
     "execution_count": 63,
     "metadata": {},
     "output_type": "execute_result"
    }
   ],
   "source": [
    "df.columns"
   ]
  },
  {
   "cell_type": "code",
   "execution_count": 88,
   "metadata": {},
   "outputs": [
    {
     "data": {
      "text/plain": [
       "(221, 36)"
      ]
     },
     "execution_count": 88,
     "metadata": {},
     "output_type": "execute_result"
    }
   ],
   "source": [
    "defense_df.shape"
   ]
  },
  {
   "cell_type": "code",
   "execution_count": 78,
   "metadata": {},
   "outputs": [
    {
     "data": {
      "text/plain": [
       "<matplotlib.collections.PathCollection at 0x7fee4af4dac0>"
      ]
     },
     "execution_count": 78,
     "metadata": {},
     "output_type": "execute_result"
    },
    {
     "data": {
      "image/png": "[encoded data removed]",
      "text/plain": [
       "<Figure size 800x500 with 1 Axes>"
      ]
     },
     "metadata": {},
     "output_type": "display_data"
    }
   ],
   "source": [
    "defense_df_filtered = defense_df[(defense_df['GP'] > 20) & (defense_df['Exp'] > 3)]\n",
    "\n",
    "fig, ax = plt.subplots(figsize=(8,5))\n",
    "\n",
    "ax.scatter(defense_df_filtered['ATOI'],defense_df_filtered['Salary'])"
   ]
  },
  {
   "cell_type": "code",
   "execution_count": 81,
   "metadata": {},
   "outputs": [
    {
     "data": {
      "text/html": [
       "<div>\n",
       "<style scoped>\n",
       "    .dataframe tbody tr th:only-of-type {\n",
       "        vertical-align: middle;\n",
       "    }\n",
       "\n",
       "    .dataframe tbody tr th {\n",
       "        vertical-align: top;\n",
       "    }\n",
       "\n",
       "    .dataframe thead th {\n",
       "        text-align: right;\n",
       "    }\n",
       "</style>\n",
       "<table border=\"1\" class=\"dataframe\">\n",
       "  <thead>\n",
       "    <tr style=\"text-align: right;\">\n",
       "      <th></th>\n",
       "      <th>Player</th>\n",
       "      <th>ATOI</th>\n",
       "      <th>Salary</th>\n",
       "    </tr>\n",
       "  </thead>\n",
       "  <tbody>\n",
       "    <tr>\n",
       "      <th>4</th>\n",
       "      <td>Adam Fox</td>\n",
       "      <td>22:49</td>\n",
       "      <td>9500000.0</td>\n",
       "    </tr>\n",
       "    <tr>\n",
       "      <th>6</th>\n",
       "      <td>Erik Gustafsson</td>\n",
       "      <td>17:15</td>\n",
       "      <td>825000.0</td>\n",
       "    </tr>\n",
       "    <tr>\n",
       "      <th>8</th>\n",
       "      <td>Jacob Trouba</td>\n",
       "      <td>21:51</td>\n",
       "      <td>8000000.0</td>\n",
       "    </tr>\n",
       "    <tr>\n",
       "      <th>13</th>\n",
       "      <td>Ryan Lindgren</td>\n",
       "      <td>19:33</td>\n",
       "      <td>3000000.0</td>\n",
       "    </tr>\n",
       "    <tr>\n",
       "      <th>24</th>\n",
       "      <td>Travis Sanheim</td>\n",
       "      <td>24:23</td>\n",
       "      <td>6250000.0</td>\n",
       "    </tr>\n",
       "    <tr>\n",
       "      <th>30</th>\n",
       "      <td>Sean Walker</td>\n",
       "      <td>19:59</td>\n",
       "      <td>2650000.0</td>\n",
       "    </tr>\n",
       "    <tr>\n",
       "      <th>32</th>\n",
       "      <td>Nick Seeler</td>\n",
       "      <td>17:05</td>\n",
       "      <td>775000.0</td>\n",
       "    </tr>\n",
       "    <tr>\n",
       "      <th>35</th>\n",
       "      <td>Rasmus Ristolainen</td>\n",
       "      <td>16:59</td>\n",
       "      <td>5100000.0</td>\n",
       "    </tr>\n",
       "    <tr>\n",
       "      <th>43</th>\n",
       "      <td>Sebastian Aho</td>\n",
       "      <td>16:06</td>\n",
       "      <td>8460250.0</td>\n",
       "    </tr>\n",
       "    <tr>\n",
       "      <th>44</th>\n",
       "      <td>Sebastian Aho</td>\n",
       "      <td>16:06</td>\n",
       "      <td>825000.0</td>\n",
       "    </tr>\n",
       "    <tr>\n",
       "      <th>51</th>\n",
       "      <td>Brent Burns</td>\n",
       "      <td>21:35</td>\n",
       "      <td>5280000.0</td>\n",
       "    </tr>\n",
       "    <tr>\n",
       "      <th>52</th>\n",
       "      <td>Brady Skjei</td>\n",
       "      <td>21:19</td>\n",
       "      <td>5250000.0</td>\n",
       "    </tr>\n",
       "    <tr>\n",
       "      <th>54</th>\n",
       "      <td>Jaccob Slavin</td>\n",
       "      <td>20:54</td>\n",
       "      <td>5300000.0</td>\n",
       "    </tr>\n",
       "    <tr>\n",
       "      <th>56</th>\n",
       "      <td>Dmitry Orlov</td>\n",
       "      <td>16:42</td>\n",
       "      <td>7750000.0</td>\n",
       "    </tr>\n",
       "    <tr>\n",
       "      <th>61</th>\n",
       "      <td>Tony DeAngelo</td>\n",
       "      <td>14:15</td>\n",
       "      <td>NaN</td>\n",
       "    </tr>\n",
       "    <tr>\n",
       "      <th>62</th>\n",
       "      <td>Brett Pesce</td>\n",
       "      <td>20:14</td>\n",
       "      <td>4025000.0</td>\n",
       "    </tr>\n",
       "    <tr>\n",
       "      <th>70</th>\n",
       "      <td>Erik Karlsson</td>\n",
       "      <td>24:24</td>\n",
       "      <td>10000000.0</td>\n",
       "    </tr>\n",
       "    <tr>\n",
       "      <th>71</th>\n",
       "      <td>Kris Letang</td>\n",
       "      <td>24:45</td>\n",
       "      <td>6100000.0</td>\n",
       "    </tr>\n",
       "    <tr>\n",
       "      <th>75</th>\n",
       "      <td>Marcus Pettersson</td>\n",
       "      <td>22:32</td>\n",
       "      <td>4025175.0</td>\n",
       "    </tr>\n",
       "    <tr>\n",
       "      <th>79</th>\n",
       "      <td>Ryan Graves</td>\n",
       "      <td>19:23</td>\n",
       "      <td>4500000.0</td>\n",
       "    </tr>\n",
       "    <tr>\n",
       "      <th>83</th>\n",
       "      <td>Chad Ruhwedel</td>\n",
       "      <td>12:22</td>\n",
       "      <td>800000.0</td>\n",
       "    </tr>\n",
       "    <tr>\n",
       "      <th>91</th>\n",
       "      <td>John Carlson</td>\n",
       "      <td>25:44</td>\n",
       "      <td>8000000.0</td>\n",
       "    </tr>\n",
       "    <tr>\n",
       "      <th>103</th>\n",
       "      <td>Nick Jensen</td>\n",
       "      <td>19:11</td>\n",
       "      <td>4050000.0</td>\n",
       "    </tr>\n",
       "    <tr>\n",
       "      <th>104</th>\n",
       "      <td>Trevor van Riemsdyk</td>\n",
       "      <td>18:26</td>\n",
       "      <td>3000000.0</td>\n",
       "    </tr>\n",
       "    <tr>\n",
       "      <th>107</th>\n",
       "      <td>Joel Edmundson</td>\n",
       "      <td>16:11</td>\n",
       "      <td>1750000.0</td>\n",
       "    </tr>\n",
       "    <tr>\n",
       "      <th>114</th>\n",
       "      <td>Noah Dobson</td>\n",
       "      <td>25:47</td>\n",
       "      <td>4000000.0</td>\n",
       "    </tr>\n",
       "    <tr>\n",
       "      <th>125</th>\n",
       "      <td>Mike Reilly</td>\n",
       "      <td>16:16</td>\n",
       "      <td>1000000.0</td>\n",
       "    </tr>\n",
       "    <tr>\n",
       "      <th>128</th>\n",
       "      <td>Scott Mayfield</td>\n",
       "      <td>19:16</td>\n",
       "      <td>3500000.0</td>\n",
       "    </tr>\n",
       "    <tr>\n",
       "      <th>131</th>\n",
       "      <td>Adam Pelech</td>\n",
       "      <td>19:23</td>\n",
       "      <td>5750000.0</td>\n",
       "    </tr>\n",
       "    <tr>\n",
       "      <th>146</th>\n",
       "      <td>John Marino</td>\n",
       "      <td>21:02</td>\n",
       "      <td>4400000.0</td>\n",
       "    </tr>\n",
       "  </tbody>\n",
       "</table>\n",
       "</div>"
      ],
      "text/plain": [
       "                  Player   ATOI      Salary\n",
       "4               Adam Fox  22:49   9500000.0\n",
       "6        Erik Gustafsson  17:15    825000.0\n",
       "8           Jacob Trouba  21:51   8000000.0\n",
       "13         Ryan Lindgren  19:33   3000000.0\n",
       "24        Travis Sanheim  24:23   6250000.0\n",
       "30           Sean Walker  19:59   2650000.0\n",
       "32           Nick Seeler  17:05    775000.0\n",
       "35    Rasmus Ristolainen  16:59   5100000.0\n",
       "43         Sebastian Aho  16:06   8460250.0\n",
       "44         Sebastian Aho  16:06    825000.0\n",
       "51           Brent Burns  21:35   5280000.0\n",
       "52           Brady Skjei  21:19   5250000.0\n",
       "54         Jaccob Slavin  20:54   5300000.0\n",
       "56          Dmitry Orlov  16:42   7750000.0\n",
       "61         Tony DeAngelo  14:15         NaN\n",
       "62           Brett Pesce  20:14   4025000.0\n",
       "70         Erik Karlsson  24:24  10000000.0\n",
       "71           Kris Letang  24:45   6100000.0\n",
       "75     Marcus Pettersson  22:32   4025175.0\n",
       "79           Ryan Graves  19:23   4500000.0\n",
       "83         Chad Ruhwedel  12:22    800000.0\n",
       "91          John Carlson  25:44   8000000.0\n",
       "103          Nick Jensen  19:11   4050000.0\n",
       "104  Trevor van Riemsdyk  18:26   3000000.0\n",
       "107       Joel Edmundson  16:11   1750000.0\n",
       "114          Noah Dobson  25:47   4000000.0\n",
       "125          Mike Reilly  16:16   1000000.0\n",
       "128       Scott Mayfield  19:16   3500000.0\n",
       "131          Adam Pelech  19:23   5750000.0\n",
       "146          John Marino  21:02   4400000.0"
      ]
     },
     "execution_count": 81,
     "metadata": {},
     "output_type": "execute_result"
    }
   ],
   "source": []
  },
  {
   "cell_type": "markdown",
   "metadata": {},
   "source": []
  }
 ],
 "metadata": {
  "kernelspec": {
   "display_name": "nhl_env",
   "language": "python",
   "name": "python3"
  },
  "language_info": {
   "codemirror_mode": {
    "name": "ipython",
    "version": 3
   },
   "file_extension": ".py",
   "mimetype": "text/x-python",
   "name": "python",
   "nbconvert_exporter": "python",
   "pygments_lexer": "ipython3",
   "version": "3.12.0"
  }
 },
 "nbformat": 4,
 "nbformat_minor": 2
}
